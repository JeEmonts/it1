{
 "cells": [
  {
   "cell_type": "markdown",
   "id": "721f2322-35da-472d-a158-01f95ad95b99",
   "metadata": {},
   "source": [
    "# Test\n",
    "\n",
    "Ein Notebook"
   ]
  },
  {
   "cell_type": "code",
   "execution_count": 1,
   "id": "61f77433-d174-4194-ad7a-512b75a13cef",
   "metadata": {
    "tags": []
   },
   "outputs": [
    {
     "name": "stdout",
     "output_type": "stream",
     "text": [
      "hello world!\n"
     ]
    }
   ],
   "source": [
    "print(\"hello world!\")"
   ]
  },
  {
   "cell_type": "code",
   "execution_count": null,
   "id": "8416ea12-2c43-49c3-90ea-b0c598698170",
   "metadata": {},
   "outputs": [],
   "source": [
    "import main"
   ]
  }
 ],
 "metadata": {
  "kernelspec": {
   "display_name": "Python 3 (ipykernel)",
   "language": "python",
   "name": "python3"
  },
  "language_info": {
   "codemirror_mode": {
    "name": "ipython",
    "version": 3
   },
   "file_extension": ".py",
   "mimetype": "text/x-python",
   "name": "python",
   "nbconvert_exporter": "python",
   "pygments_lexer": "ipython3",
   "version": "3.11.4"
  }
 },
 "nbformat": 4,
 "nbformat_minor": 5
}
