{
 "cells": [
  {
   "cell_type": "markdown",
   "id": "307c2fef-4f62-429c-9d4a-3a93b28c05d6",
   "metadata": {},
   "source": [
    "## Code-Zellen\n",
    "\n",
    "Den eigentlichen Code schreiben Sie in Code-Zellen.\n",
    "\n",
    "### Probieren wir es aus. \n",
    "\n",
    "Sie könnne Python wie einen Taschenrechner benutzen.\n",
    "Die folgenden Operatoren stehen Ihnen dabei (sofort) zur Verfügung:  \n",
    "* Addition (+)\n",
    "* Subtraktion (-)\n",
    "* Multiplikation (*)\n",
    "* Division (/)\n",
    "* Ganzzahlige Division (//)\n",
    "* Modulo (%) - Rückgabewert ist der Rest der Division\n",
    "* Potenz (**)\n",
    "\n",
    "### Zahlen\n",
    "\n",
    "In Python (wie Allgemein im Englischen) ist das Dezimaltrennzeichen ein Punkt (.) und nicht ein Komma (,)."
   ]
  },
  {
   "cell_type": "code",
   "execution_count": 4,
   "id": "29f56814-55d0-49ce-a208-4d81d281893f",
   "metadata": {
    "tags": []
   },
   "outputs": [
    {
     "data": {
      "text/plain": [
       "8"
      ]
     },
     "execution_count": 4,
     "metadata": {},
     "output_type": "execute_result"
    }
   ],
   "source": [
    "2**3 # Achtung in Python wird der Exponent mit ** statt mit ^abgetrennt!"
   ]
  },
  {
   "cell_type": "code",
   "execution_count": 5,
   "id": "a6dea059-b2f1-49d6-b552-9de46a7f3e9b",
   "metadata": {
    "tags": []
   },
   "outputs": [
    {
     "data": {
      "text/plain": [
       "3"
      ]
     },
     "execution_count": 5,
     "metadata": {},
     "output_type": "execute_result"
    }
   ],
   "source": [
    "2+3\n",
    "5-2"
   ]
  },
  {
   "cell_type": "markdown",
   "id": "09e48ad1-04f6-4875-9e28-b1efcf528136",
   "metadata": {},
   "source": [
    "## Warum wird nur die 3 angezeigt?\n",
    "\n",
    "In einer Zelle können Sie mehrere Befehle nacheinander ausführen. Wenn Sie eine Zelle ausführen, wird standardmäßig nur das Ergebnis des letzten Befehls angezeigt. Dies erleichtert das Lesen und Verstehen des Codes, indem irrelevante Zwischenergebnisse ausgeblendet werden.\n",
    "\n",
    "Wenn Sie jedoch möchten, dass alle Zwischenergebnisse angezeigt werden, können Sie die Funktion print() verwenden, um explizit den Inhalt von Variablen oder Zwischenergebnissen auszugeben."
   ]
  },
  {
   "cell_type": "code",
   "execution_count": 6,
   "id": "f6ac6e4f-8588-4c42-9780-36a7e9c2ab01",
   "metadata": {
    "tags": []
   },
   "outputs": [
    {
     "name": "stdout",
     "output_type": "stream",
     "text": [
      "5\n",
      "3\n"
     ]
    }
   ],
   "source": [
    "print(2+3)\n",
    "print(5-2)"
   ]
  },
  {
   "cell_type": "markdown",
   "id": "4eabb4ba-8655-4c8c-b56a-8a3fc197464b",
   "metadata": {},
   "source": [
    "Mit dem print-Befehl können Sie jetzt auch das tradiotinell erste Programm schreiben.\n",
    "\n",
    "`print(\"Hello, world!\")`\n",
    "\n",
    "Dieser Befehl gibt den Text \"Hello, world!\" aus, der durch Anführungszeichen als String gekennzeichnet ist. Die Verwendung von Anführungszeichen ist wichtig, da sie angeben, dass der Text innerhalb als Zeichenkette behandelt werden soll. Dieses Konzept wird in einem der kommenden Praktika weiter vertieft."
   ]
  },
  {
   "cell_type": "markdown",
   "id": "1953c351-328a-42e0-92a8-318abc5b5edd",
   "metadata": {},
   "source": [
    "<p>\n",
    "    <div style=\"display: inline-block; vertical-align: top;\">\n",
    "       <img src=\"Bilder/Aufgabe.png\" alt=\"Icon\" style=\"height:50px;\"/>\n",
    "    </div>\n",
    "    Testen Sie hier nun selber verschiedenen Befehle. \n",
    "    Welche Zwischenergebnisse wollen Sie anzeigen?\n",
    "</p>"
   ]
  },
  {
   "cell_type": "code",
   "execution_count": 7,
   "id": "24a2236f-88d2-4874-8b60-2e6f20877d5a",
   "metadata": {},
   "outputs": [],
   "source": [
    "# Hier kommt ihr Code hin\n",
    "\n",
    "\n"
   ]
  },
  {
   "cell_type": "markdown",
   "id": "2ebd2ded-2359-43b9-8dcb-6bc3e61968dd",
   "metadata": {
    "tags": []
   },
   "source": [
    "Sie können aber nicht nur mit Zahlen, sondern auch mit Variablen rechnen. Eine Variable bekommt mit '\"='\" einen Wert zugeordnet:\n",
    "Zum Beispiel \n"
   ]
  },
  {
   "cell_type": "code",
   "execution_count": 1,
   "id": "f5ac4944-d188-4ba2-89b6-ba64a3fad984",
   "metadata": {},
   "outputs": [],
   "source": [
    "x = 2\n",
    "y = 3\n",
    "z = x + y\n",
    "\n",
    "print(z)"
   ]
  },
  {
   "cell_type": "markdown",
   "id": "f8fd9bb3-143c-4092-aca2-654254da9582",
   "metadata": {},
   "source": [
    "<p>\n",
    "<div style=\"display: inline-block; vertical-align: top;\">\n",
    "       <img src=\"Bilder/Aufgabe.png\" alt=\"Icon\" style=\"height:50px;\"/>\n",
    "</div>\n",
    "Jetzt sind Sie wieder dran:<br>\n",
    "Schreiben Sie ein Programm, das den Flächeninhalt (A) und den Umfang (U) eines Rechtecks berechnet.<br>\n",
    "    \n",
    "* Definieren Sie Variablen für die Länge und Breite des Rechtecks.\n",
    "* Berechnen Sie den Flächeninhalt und den Umfang des Rechtecks.\n",
    "* Verwenden Sie den print-Befehl, um den berechneten Flächeninhalt und Umfang auszugeben und machen Sie dabei deutlich, um was es sich handelt.\n",
    "    \n",
    "</p>"
   ]
  },
  {
   "cell_type": "code",
   "execution_count": null,
   "id": "a8960d37-84cf-44f5-8e8d-be49b5fd8d4c",
   "metadata": {},
   "outputs": [],
   "source": []
  },
  {
   "cell_type": "code",
   "execution_count": null,
   "id": "5cf7d4d2-9494-4e20-9574-91b687fc7886",
   "metadata": {},
   "outputs": [],
   "source": []
  }
 ],
 "metadata": {
  "kernelspec": {
   "display_name": "Python 3 (ipykernel)",
   "language": "python",
   "name": "python3"
  },
  "language_info": {
   "codemirror_mode": {
    "name": "ipython",
    "version": 3
   },
   "file_extension": ".py",
   "mimetype": "text/x-python",
   "name": "python",
   "nbconvert_exporter": "python",
   "pygments_lexer": "ipython3",
   "version": "3.9.18"
  }
 },
 "nbformat": 4,
 "nbformat_minor": 5
}
