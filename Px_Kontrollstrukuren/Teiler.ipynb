{
 "cells": [
  {
   "cell_type": "markdown",
   "id": "f0b097df-f0e8-4a8b-92c0-a9056360d7ca",
   "metadata": {
    "tags": []
   },
   "source": [
    "Gesucht sind alle Teiler einer Zahl number. Wir möchten eine Liste, die alle **echten** Teiler (also nicht die Zahl selber) von number enthält.\n",
    "\n",
    "<p>\n",
    "    <div style=\"display: inline-block; vertical-align: top;\">\n",
    "       <img src=\"Bilder/Aufgabe.png\" alt=\"Icon\" style=\"height:50px;\"/>\n",
    "    </div>\n",
    "    \n",
    "</p> Schreiben Sie eine Anweidung, die jede Zahl $/leq number$ überprüft, ob sie ein Teiler ist und dann fügen Sie sie zu einer Liste hinzu, die Sie vorab definieren müssen."
   ]
  },
  {
   "cell_type": "code",
   "execution_count": null,
   "id": "06b5359c-18a6-4c1e-a449-23ce28ad8cc1",
   "metadata": {},
   "outputs": [],
   "source": [
    "number = 10**6\n",
    "\n",
    "# Hier kommt Ihr Code hin"
   ]
  },
  {
   "cell_type": "markdown",
   "id": "0330b634-3d58-4d13-88a6-d70e48dc58a0",
   "metadata": {
    "tags": []
   },
   "source": [
    "Wenn Sie einen Teiler gefunden `factor` haben, dann haben Sie automatisch einen weiteren Teiler `number / factor` gefunden (immer auch einen echten Teiler?)\n",
    "\n",
    "<p>\n",
    "    <div style=\"display: inline-block; vertical-align: top;\">\n",
    "       <img src=\"Bilder/Aufgabe.png\" alt=\"Icon\" style=\"height:50px;\"/>\n",
    "    </div>\n",
    "    \n",
    "</p> Nutzen Sie diese Tatsache und passen Sie Ihren Code entsprechend an."
   ]
  },
  {
   "cell_type": "code",
   "execution_count": 2,
   "id": "9364bf83-8cb9-43be-83e3-cbe2ccc345b7",
   "metadata": {
    "tags": []
   },
   "outputs": [],
   "source": [
    "# Der verbesserte Code"
   ]
  },
  {
   "cell_type": "markdown",
   "id": "f61249fe-e3df-448f-a748-52a1106effc9",
   "metadata": {},
   "source": [
    "Als nächstes wollen wir statt einer for-Schleife eine while Schleife benutzen. \n",
    "Zunächst erreichen wir die gleiche Schleife, indem wir eine Laufvariable auf den Startwert setzen und diese in jedem Schritt um 1 erhöhen und die While Bedingung überprüfen lassen, ob der Wert <(=) eine obere Schranke ist.\n",
    "\n",
    "Gesucht sind alle Teiler einer Zahl number. Wir möchten eine Liste, die alle echten Teiler von number enthält.\n",
    "\n",
    "<p>\n",
    "    <div style=\"display: inline-block; vertical-align: top;\">\n",
    "       <img src=\"Bilder/Aufgabe.png\" alt=\"Icon\" style=\"height:50px;\"/>\n",
    "    </div>\n",
    "    \n",
    "</p> Benutzen Sie eine While-Schleife für Ihren Code und überlegen, wie Sie die obere Schranke updaten können, wenn Sie einen neuen Teiler gefunden haben.\n"
   ]
  },
  {
   "cell_type": "code",
   "execution_count": null,
   "id": "6f6d2061-cdbc-4a05-89e7-3c771b9ae88a",
   "metadata": {},
   "outputs": [],
   "source": [
    "# Jetzt nochmal mit while-Schleife\n"
   ]
  },
  {
   "cell_type": "markdown",
   "id": "2cc90b26-0cdb-48c3-8305-92a71c692b2f",
   "metadata": {},
   "source": [
    "Wir können den Code noch etwas schneller und uns das Leben etwas einfach machen, indem wir uns Hilfe holen.\n",
    "\n",
    "Mit dem Befehl `from math import sqrt` können Sie eine Wurzel-Funktion importieren. Wir werden später im Praktikum nochmal genauer auf Bibliotheken und den import-Befehl zurück kommen. Mit dieser können Sie von Anfang an die optimale obere Schranke für Ihre Funktion setzen und können wieder die for-Schleife verwenden.\n",
    "\n",
    "<p>\n",
    "    <div style=\"display: inline-block; vertical-align: top;\">\n",
    "       <img src=\"Bilder/Aufgabe.png\" alt=\"Icon\" style=\"height:50px;\"/>\n",
    "    </div>\n",
    "    \n",
    "</p> Benutzen Sie den Wurzel Import, und schreiben Sie erneut eine Routine mittels for-Schleife, um alle Teiler von number zu finden."
   ]
  },
  {
   "cell_type": "code",
   "execution_count": null,
   "id": "b963fd7d-61e2-4cc2-ac38-0f1fac0bf653",
   "metadata": {},
   "outputs": [],
   "source": [
    "from math import *\n",
    "# Wieder zurück zur for Schleife"
   ]
  },
  {
   "cell_type": "markdown",
   "id": "0218e7f4-24b9-4e70-a2ad-b329c0a674ef",
   "metadata": {
    "tags": []
   },
   "source": [
    "Macht das alles überhaupt einen Unterschied?\n",
    "\n",
    "Rechner können sehr schnell rechnen, aber wir können auch sehr große Zahlen eingeben, z.B `10**10`und dann braucht das Rechnen unter umständen sehr lange.\n",
    "Sie können es einfach mal ausprobieren. **AAChtung:** steigern Sie die Zahlen langsam, wenn Sie mit zu großen Zahlen starten und Sie nicht warten möchten, müssen Sie ggf. den Kernel neu starten.\n",
    "\n",
    "Wie benutzen nochmal fertigen Code aus einer Bibliothek nämlich `from datetime import datetime`. Dann setzen zu Beginn Ihres Codes `start_time=datetime.now()` und nach dem Code `print(datettime.now() - start_time)`. Der Print-Befehl gibt Ihnen die Zeit aus, die zwischen den beiden Zeilen Code vergangen sind.\n",
    "\n",
    "\n",
    "<p>\n",
    "    <div style=\"display: inline-block; vertical-align: top;\">\n",
    "       <img src=\"Bilder/Aufgabe.png\" alt=\"Icon\" style=\"height:50px;\"/>\n",
    "    </div>\n",
    "    \n",
    "</p> Testen Sie für verschieden große Zahlen Ihren Code. Wie lange brauchen Ihren Routine jeweils. "
   ]
  },
  {
   "cell_type": "code",
   "execution_count": null,
   "id": "04b1b723-d620-4fac-bfdc-21aa1e14ddd4",
   "metadata": {},
   "outputs": [],
   "source": [
    "Was Sie mitnehmen sollten:\n",
    "    \n",
    "    * Wie funktioniert eine for-Schleife?\n",
    "    * Wie funktioniert eine while-Schleife?\n",
    "    * Viele Wege führen Nach Rom.\n",
    "    * Nicht alle Wege sind gleich schnell."
   ]
  }
 ],
 "metadata": {
  "kernelspec": {
   "display_name": "Python 3 (ipykernel)",
   "language": "python",
   "name": "python3"
  },
  "language_info": {
   "codemirror_mode": {
    "name": "ipython",
    "version": 3
   },
   "file_extension": ".py",
   "mimetype": "text/x-python",
   "name": "python",
   "nbconvert_exporter": "python",
   "pygments_lexer": "ipython3",
   "version": "3.9.18"
  }
 },
 "nbformat": 4,
 "nbformat_minor": 5
}
