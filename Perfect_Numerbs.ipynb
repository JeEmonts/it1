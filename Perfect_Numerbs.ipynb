{
 "cells": [
  {
   "cell_type": "markdown",
   "id": "7118b0f6-652f-48bc-ad26-b371e60bd39f",
   "metadata": {},
   "source": [
    "Perfekte Zahlen sind eine faszinierende Eigenschaft der Mathematik, die seit der Antike untersucht wird. Eine perfekte Zahl ist eine natürliche Zahl, bei der die Summe aller ihrer echten Teiler (ausschließlich der Zahl selbst aber mit 1) genau die Zahl selbst ergibt. Mit anderen Worten, eine perfekte Zahl ist gleich der Summe ihrer Teiler, ohne sich selbst zu beinhalten.\n",
    "\n",
    "Das bekannteste Beispiel für eine perfekte Zahl ist die Zahl $6$. Ihre echten Teiler sind $1$, $2$ und $3$. Wenn wir diese addieren, erhalten wir $6$. Ein weiteres Beispiel ist die Zahl $28$, bei der die Summe ihrer Teiler ebenfalls $28$ ergibt: $1 + 2 + 4 + 7 + 14 = 28$.\n",
    "\n",
    "Interessanterweise haben perfekte Zahlen eine enge Verbindung zu Mersenne-Primzahlen, die in der Form \n",
    "$2^n-1$ dargestellt werden können. Wenn $2^n-1$ eine Primzahl ist, dann ist \n",
    "$2^{n-1}(2^n-1)$ eine perfekte Zahl. Diese Verbindung wurde bereits von Euclid vor über 2000 Jahren entdeckt.\n",
    "\n",
    "Perfekte Zahlen sind selten, und bisher sind nur wenige davon bekannt. Ihre Erforschung hat weiterhin einen wichtigen Platz in der Zahlentheorie und inspiriert Mathematikerinnen und Mathematiker, die Geheimnisse und Muster hinter diesen bemerkenswerten Zahlen zu entschlüsseln.\n",
    "\n",
    "Die folgenden Fragen sind bis heute ungeklärt:\n",
    "* Sind alle perfekte Zahlen gerade?\n",
    "* Wie viele perfekte Zahlen gibt es oder ist die Zahl überhaupt endlich?\n",
    "* Kann jede perfekte Zahl in der obigen Form mit Hilfe mit Mersenne-Primzahlen dargestellt werden oder gibt es andere erfekte Zahlen?"
   ]
  },
  {
   "cell_type": "markdown",
   "id": "c41300c8-b6ce-4bcc-b394-d25cc13c589f",
   "metadata": {
    "tags": []
   },
   "source": [
    "<p>\n",
    "    <div style=\"display: inline-block; vertical-align: top;\">\n",
    "       <img src=\"Bilder/Aufgabe.png\" alt=\"Icon\" style=\"height:50px;\"/>\n",
    "    </div>\n",
    "    Finden Sie aalle perfekten Zahlen bis 10 000.\n",
    "</p>"
   ]
  },
  {
   "cell_type": "code",
   "execution_count": 16,
   "id": "ed863fd0-ca22-4c65-892f-0a40c1213f8b",
   "metadata": {
    "tags": []
   },
   "outputs": [
    {
     "name": "stdout",
     "output_type": "stream",
     "text": [
      "(datetime.timedelta(microseconds=14095), [1, 2, 4, 5, 8, 10, 16, 20, 25, 32, 40, 50, 64, 80, 100, 125, 128, 160, 200, 250, 256, 320, 400, 500, 512, 625, 640, 800, 1000, 1024, 1250, 1280, 1600, 2000, 2500, 2560, 3125, 3200, 4000, 5000, 5120, 6250, 6400, 8000, 10000, 12500, 12800, 15625, 16000, 20000, 25000, 25600, 31250, 32000, 40000, 50000, 62500, 64000, 78125, 80000, 100000, 100000, 125000, 128000, 156250, 160000, 200000, 250000, 312500, 320000, 390625, 400000, 500000, 625000, 640000, 781250, 800000, 1000000, 1250000, 1562500, 1600000, 1953125, 2000000, 2500000, 3125000, 3200000, 3906250, 4000000, 5000000, 6250000, 7812500, 8000000, 9765625, 10000000, 12500000, 15625000, 16000000, 19531250, 20000000, 25000000, 31250000, 39062500, 40000000, 50000000, 62500000, 78125000, 80000000, 100000000, 125000000, 156250000, 200000000, 250000000, 312500000, 400000000, 500000000, 625000000, 1000000000, 1250000000, 2000000000, 2500000000, 5000000000])\n",
      "(datetime.timedelta(microseconds=7439), 119)\n"
     ]
    }
   ],
   "source": [
    "from datetime import datetime\n",
    "from math import *\n",
    "\n",
    "def all_factors(number):\n",
    "    starttime = datetime.now()\n",
    "    factors = []\n",
    "    for i in range(1, number):\n",
    "        if number % i == 0:\n",
    "            factors.append(i)\n",
    "    return datetime.now()-starttime, factors \n",
    "            \n",
    "def all_factors_faster(number):\n",
    "    starttime = datetime.now()\n",
    "    factors = []\n",
    "    check_up_to = number\n",
    "    i = 1\n",
    "    \n",
    "    while i < check_up_to:\n",
    "\n",
    "        if number % i == 0:\n",
    "            factors.append(i)\n",
    "            check_up_to = number // i\n",
    "            if i>1:\n",
    "                factors.append(number // i)\n",
    "        i += 1\n",
    "    factors.sort()\n",
    "    return datetime.now()-starttime, factors\n",
    "\n",
    "\n",
    "def all_factors_even_faster(number):\n",
    "    starttime = datetime.now()\n",
    "\n",
    "    factors = []\n",
    "      \n",
    "\n",
    "    for i in range(1, int(sqrt(number))):\n",
    "\n",
    "        if number % i == 0:\n",
    "            factors.append(i)\n",
    "            if i>1:\n",
    "                factors.append(number // i)\n",
    "    factors.sort()\n",
    "\n",
    "    return datetime.now()-starttime, len(factors)\n",
    "\n",
    "# print(all_factors(10**9))\n",
    "print(all_factors_faster(10**10))\n",
    "print(all_factors_even_faster(10**10))"
   ]
  },
  {
   "cell_type": "code",
   "execution_count": 24,
   "id": "c65090bf-9e15-4617-91fc-24b8ab5ac76d",
   "metadata": {
    "tags": []
   },
   "outputs": [
    {
     "name": "stdout",
     "output_type": "stream",
     "text": [
      "0 ist eine perfekte Zahl\n",
      "6 ist eine perfekte Zahl\n",
      "28 ist eine perfekte Zahl\n",
      "496 ist eine perfekte Zahl\n",
      "8128 ist eine perfekte Zahl\n"
     ]
    }
   ],
   "source": [
    "def is_perfect_number(number):\n",
    "    if sum(all_factors(number)[1]) == number:\n",
    "        return True\n",
    "    return False\n",
    "\n",
    "for i in range(100000):\n",
    "    if is_perfect_number(i):\n",
    "        print(f\"{i} ist eine perfekte Zahl\")\n",
    "    \n"
   ]
  },
  {
   "cell_type": "code",
   "execution_count": 19,
   "id": "84924c9a-66cc-4b25-b139-f5b6b0dfe188",
   "metadata": {
    "tags": []
   },
   "outputs": [
    {
     "name": "stdout",
     "output_type": "stream",
     "text": [
      "(datetime.timedelta(seconds=10, microseconds=608518), 323)\n"
     ]
    }
   ],
   "source": [
    "print(all_factors_even_faster(10**17))"
   ]
  },
  {
   "cell_type": "code",
   "execution_count": null,
   "id": "13c2cf05-442a-41a4-89e4-df88f6b0bae1",
   "metadata": {},
   "outputs": [],
   "source": []
  }
 ],
 "metadata": {
  "kernelspec": {
   "display_name": "Python 3 (ipykernel)",
   "language": "python",
   "name": "python3"
  },
  "language_info": {
   "codemirror_mode": {
    "name": "ipython",
    "version": 3
   },
   "file_extension": ".py",
   "mimetype": "text/x-python",
   "name": "python",
   "nbconvert_exporter": "python",
   "pygments_lexer": "ipython3",
   "version": "3.9.18"
  }
 },
 "nbformat": 4,
 "nbformat_minor": 5
}
